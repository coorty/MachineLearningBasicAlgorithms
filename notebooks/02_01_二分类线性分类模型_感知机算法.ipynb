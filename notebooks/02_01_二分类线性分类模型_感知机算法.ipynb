{
 "cells": [
  {
   "cell_type": "markdown",
   "metadata": {},
   "source": [
    "### 感知机算法基本原理"
   ]
  },
  {
   "attachments": {},
   "cell_type": "markdown",
   "metadata": {},
   "source": [
    "**感知机**是一个最基础的二分类线性分类算法, 虽然简单, 但是可以让我们了解一个分类算法到底是怎么回事. 如下图所示, 假如我们想通过一个人的身高(X1), 体重(X2)两个特征对一个人是男生还是女生进行判别(二分类), 我们收集了3个男生的身高体重数据(正例, 如红色标记), 4个女生的身高体重数据(负例, 如紫色标记). 有了这些数据之后, 我们的目的是找到一条线(方程)将两者能恰巧分离开来, 如图中的L3,对于红色的点, 带入方程之后得到的值都大于0, 对于紫色的点带入方程后都小于0. 找到这个方程之后, 如果来了一个新的样本, 我们将其带入方程, 看是否大于0即可判断此样本是男生还是女生. "
   ]
  },
  {
   "cell_type": "markdown",
   "metadata": {},
   "source": [
    "![jupyter](./images/02/感知机分类模型2.jpg)"
   ]
  },
  {
   "cell_type": "markdown",
   "metadata": {},
   "source": [
    "但是如何求得这条分隔线的方程? 能使其正好将正例和反例分开? 感知机是个线性模型, 因此上图中的分隔线的方程可以假设为: $y=w_1x_1+w_2x_2+b$, 这只是输入特征维度为两维的情形, 感知机更一般的形式是:\n",
    "    \n",
    "假设特征空间的为: $\\chi \\subseteq R^n$ (这个的含义是输入样本可以是n维空间中任意的一个点), 输出空间为: $y=\\{+1, -1\\}$ (这个的含义是实例的类别), 由输入空间到输出空间的关系为:\n",
    "$$\n",
    "f(x) = sign(w^T x+b)\n",
    "$$\n",
    "\n",
    "其中, $w\\subset R^n$是模型的参数, 称为权重, 这是个列向量, 在本例中为$[w_1,w_2]'$, $b\\subset R$是模型的偏置, 是个标量. $x$是输入样本向量. **注意**: 这里面的向量默认都是列向量, 带了'的表示向量的转置(即将列向量转换称为行向量或者反之), $w^T x$是用了线性代数里面的矩阵乘法, 行向量与列向量相乘的结果是个标量. sign是个符号函数:\n",
    "$$ sign(x)=\\left\\{\n",
    "\\begin{aligned}\n",
    "+1, x \\geq 0 \\\\\n",
    "-1, x \\lt 0\n",
    "\\end{aligned}\n",
    "\\right.\n",
    "$$\n",
    "\n",
    "感知机模型的假设空间是定义在特征空间的所有线性分类模型, 即函数集合: $\\{f|f(x)=w^T x+b\\}$, 上面的L1~L6都在这个函数集合中. 给定了训练数据, 如何将模型参数$w, b$算出来?"
   ]
  },
  {
   "cell_type": "markdown",
   "metadata": {},
   "source": [
    "### 感知机算法学习策略"
   ]
  },
  {
   "cell_type": "markdown",
   "metadata": {},
   "source": [
    "上图中, L5比L4要差, 因为L5把一个紫色样本点分错了, 在求解模型的时候, 需要定义一个函数来衡量模型分类的好坏, 这个函数称为损失函数或者代价函数. 损失函数的一个选择是统计误分类点的数量, 比如L5为1, L4为0, 则L4更好. 但是这样的损失函数不是参数$\\vec{w}, b$的可导函数, 不方便求解. 因此损失函数的另一种选择是误分类点到分隔线的距离:\n",
    "$$\n",
    "\\frac{1}{||w||}|w^T x+b|\n",
    "$$\n",
    "\n",
    "对于误分类点($x_i, y_i$)而言, 必有:\n",
    "$$\n",
    "-y_i(w^T x+b)>0\n",
    "$$\n",
    "\n",
    "因此距离可以写成:\n",
    "$$\n",
    "-\\frac{1}{||w||}y_i(w^T x+b)\n",
    "$$\n",
    "\n",
    "假设共有**M**个误分类点, 则这些点的总距离可以表示成:\n",
    "$$\n",
    "-\\frac{1}{||w||}\\sum_{x_i\\subset M}y_i(w^T x_i+b)\n",
    "$$\n",
    "\n",
    "忽略$\\frac{1}{||w||}$ (思考下为什么可以忽略), 则感知机的代价函数为:\n",
    "$$\n",
    "L(w,b)=-\\sum_{x_i\\subset M}y_i(w^T x_i+b)\n",
    "$$\n",
    "\n",
    "显然, 这个代价函数是非负的, 如果全部的样本都正确分类, 则其为0."
   ]
  },
  {
   "cell_type": "markdown",
   "metadata": {},
   "source": [
    "### 感知器学习算法原始形式"
   ]
  },
  {
   "cell_type": "markdown",
   "metadata": {},
   "source": [
    "给定训练数据集:\n",
    "$$\n",
    "T = \\{(x_1, y_1), (x_2, y_2), ..., (x_N, y_N)\\}\n",
    "$$\n",
    "目标是求得参数$w, b$, 从而使$L(w,b)$的值达到最小, 即:\n",
    "$$\n",
    "\\min_{w,b}L(w,b) = -\\sum_{x_i\\subset M}y_i(w^T x_i+b)\n",
    "$$\n",
    "\n",
    "求解的过程采用梯度下降算法:\n",
    "$$\n",
    "\\bigtriangledown_wL(w,b)= - \\sum_{x_i\\subset M}y_ix_i\n",
    "$$\n",
    "$$\n",
    "\\bigtriangledown_{b}L(w,b)= - \\sum_{x_i\\subset M}y_i\n",
    "$$\n",
    "使用随机梯度下降算法, 每次随机选择一个误分类点来对$w,b$进行梯度下降:\n",
    "$$\n",
    "w \\gets w - \\alpha(-y_i x_i)\n",
    "$$\n",
    "$$\n",
    "b \\gets b - \\alpha(-y_i)\n",
    "$$\n",
    "这里的$\\alpha$为学习率, 在(0,1)之间取值."
   ]
  },
  {
   "cell_type": "code",
   "execution_count": 180,
   "metadata": {},
   "outputs": [],
   "source": [
    "import numpy as np\n",
    "import os\n",
    "os.chdir('../')\n",
    "import matplotlib.pyplot as plt\n",
    "%matplotlib inline"
   ]
  },
  {
   "cell_type": "code",
   "execution_count": 181,
   "metadata": {},
   "outputs": [
    {
     "name": "stdout",
     "output_type": "stream",
     "text": [
      "[[1 2 3 4 3 4 5]\n",
      " [4 3 1 2 7 6 4]]\n"
     ]
    }
   ],
   "source": [
    "# 训练集\n",
    "X = np.asarray([[1,4],[2,3],[3,1],[4,2],[3,7],[4,6],[5,4]]).T  #训练样本\n",
    "y = np.asarray([-1,-1,-1,-1,1,1,1])  # 训练样本的标签\n",
    "print(X)"
   ]
  },
  {
   "cell_type": "code",
   "execution_count": 182,
   "metadata": {},
   "outputs": [],
   "source": [
    "def plot_decision_boundary(x, y, w, bias):\n",
    "    \"\"\"\n",
    "    绘制前两个维度的决策边界\n",
    "    \"\"\"\n",
    "    w1, w2 = w[0], w[1]\n",
    "    x1 = np.arange(np.min(x[0,:]), np.max(x[1,:]), 0.1)\n",
    "    x2 = -w1 / w2 * x1 - bias / w2\n",
    "    plt.scatter(x[0,:], x[1,:], c=y, s=50)\n",
    "    plt.plot(x1, x2, 'r')\n",
    "    plt.show()\n",
    "    \n",
    "def loss(X, y, w, b):\n",
    "    \"\"\"\n",
    "    计算loss\n",
    "    \"\"\"\n",
    "    dist_vec = y * (np.dot(w, X) + b)\n",
    "    misclassify_flag = dist_vec <= 0\n",
    "    if sum(misclassify_flag) == 0:\n",
    "        return 0\n",
    "    return - sum(dist_vec[misclassify_flag])"
   ]
  },
  {
   "cell_type": "code",
   "execution_count": 183,
   "metadata": {},
   "outputs": [
    {
     "name": "stdout",
     "output_type": "stream",
     "text": [
      "Iter sample 0, loss=6.0\n",
      "Iter sample 2, loss=3.300000000000001\n",
      "Iter sample 4, loss=8.000000000000002\n",
      "Iter sample 0, loss=6.6000000000000005\n",
      "Iter sample 0, loss=1.7\n",
      "Iter sample 4, loss=8.799999999999999\n",
      "Iter sample 0, loss=6.200000000000002\n",
      "Iter sample 1, loss=2.1999999999999997\n",
      "Iter sample 4, loss=9.1\n",
      "Iter sample 0, loss=5.800000000000001\n",
      "Iter sample 1, loss=2.1999999999999993\n",
      "Iter sample 4, loss=9.399999999999999\n",
      "Iter sample 0, loss=5.400000000000002\n",
      "Iter sample 2, loss=2.299999999999999\n",
      "Iter sample 4, loss=7.499999999999997\n",
      "Iter sample 0, loss=6.000000000000003\n",
      "Iter sample 0, loss=0.7000000000000015\n",
      "Iter sample 4, loss=8.299999999999997\n",
      "Iter sample 0, loss=5.600000000000004\n",
      "Iter sample 1, loss=1.099999999999998\n",
      "Iter sample 4, loss=8.599999999999996\n",
      "Iter sample 0, loss=5.200000000000004\n",
      "Iter sample 2, loss=1.199999999999997\n",
      "Iter sample 4, loss=6.699999999999996\n",
      "Iter sample 0, loss=5.800000000000004\n",
      "Iter sample 0, loss=0.6000000000000021\n",
      "Iter sample 4, loss=7.499999999999996\n",
      "Iter sample 0, loss=5.400000000000005\n",
      "Iter sample 0, loss=4.718447854656915e-15\n",
      "Iter sample 4, loss=8.299999999999994\n",
      "Iter sample 0, loss=5.000000000000005\n",
      "Iter sample 2, loss=0.9999999999999976\n",
      "Iter sample 4, loss=6.399999999999993\n",
      "Iter sample 0, loss=5.600000000000006\n",
      "Iter sample 0, loss=0.3000000000000047\n",
      "Iter sample 4, loss=7.199999999999991\n",
      "Iter sample 0, loss=5.200000000000006\n",
      "Iter sample 2, loss=0.10000000000000303\n",
      "Iter sample 4, loss=5.299999999999992\n",
      "Iter sample 0, loss=5.800000000000008\n",
      "Iter sample 0, loss=0.6000000000000055\n",
      "Iter sample 4, loss=6.099999999999991\n",
      "Iter sample 0, loss=5.4000000000000075\n",
      "Iter sample 0, loss=0.10000000000000608\n",
      "Iter sample 4, loss=6.89999999999999\n",
      "Iter sample 0, loss=5.000000000000008\n",
      "Iter sample 2, loss=0.20000000000000384\n",
      "Iter sample 4, loss=4.999999999999989\n",
      "Iter sample 0, loss=5.6000000000000085\n",
      "Iter sample 0, loss=0.40000000000000724\n",
      "Iter sample 4, loss=5.799999999999987\n",
      "Iter sample 0, loss=5.20000000000001\n",
      "Iter sample 3, loss=0.20000000000000284\n",
      "Iter sample 4, loss=6.7999999999999865\n",
      "Iter sample 0, loss=3.80000000000001\n",
      "Iter sample 6, loss=0.09999999999999576\n",
      "Iter sample 0, loss=7.8000000000000105\n",
      "Iter sample 0, loss=2.4000000000000106\n",
      "Iter sample 4, loss=2.799999999999985\n",
      "Iter sample 0, loss=7.400000000000011\n",
      "Iter sample 1, loss=2.100000000000009\n",
      "Iter sample 4, loss=3.0999999999999845\n",
      "Iter sample 0, loss=7.000000000000011\n",
      "Iter sample 1, loss=1.8000000000000087\n",
      "Iter sample 4, loss=3.3999999999999853\n",
      "Iter sample 0, loss=6.600000000000011\n",
      "Iter sample 1, loss=1.5000000000000084\n",
      "Iter sample 4, loss=3.699999999999985\n",
      "Iter sample 0, loss=6.200000000000011\n",
      "Iter sample 1, loss=1.2000000000000082\n",
      "Iter sample 4, loss=3.999999999999986\n",
      "Iter sample 0, loss=5.8000000000000105\n",
      "Iter sample 2, loss=1.0000000000000053\n",
      "Iter sample 4, loss=2.0999999999999854\n",
      "Iter sample 0, loss=6.400000000000012\n",
      "Iter sample 0, loss=1.0000000000000109\n",
      "Iter sample 4, loss=2.8999999999999835\n",
      "Iter sample 0, loss=6.000000000000012\n",
      "Iter sample 1, loss=0.9000000000000088\n",
      "Iter sample 4, loss=3.1999999999999837\n",
      "Iter sample 0, loss=5.600000000000013\n",
      "Iter sample 2, loss=0.7000000000000064\n",
      "Iter sample 4, loss=1.2999999999999823\n",
      "Iter sample 0, loss=6.2000000000000135\n",
      "Iter sample 0, loss=1.0000000000000104\n",
      "Iter sample 4, loss=2.099999999999981\n",
      "Iter sample 0, loss=5.800000000000014\n",
      "Iter sample 1, loss=0.7000000000000077\n",
      "Iter sample 4, loss=2.3999999999999795\n",
      "Iter sample 0, loss=5.4000000000000155\n",
      "Iter sample 3, loss=0.600000000000005\n",
      "Iter sample 4, loss=3.399999999999978\n",
      "Iter sample 0, loss=4.000000000000016\n",
      "Get final w = [0.3 0.4]\n",
      "Get final b = -2.1000000000000005\n"
     ]
    }
   ],
   "source": [
    "# 迭代求解, 每次只取一个误分类样本\n",
    "# 参数初始化\n",
    "alpha = 0.1  # 学习率\n",
    "w = np.asarray([0.1,0.1])  # 初始的参数w\n",
    "b = 1  # 初始的b\n",
    "n = len(y)  # 训练样本的数量\n",
    "i = 0\n",
    "while True:\n",
    "    if y[i] * (np.dot(w, X[:, i]) + b) <= 0:\n",
    "        print(\"Iter sample {}, loss={}\".format(i, loss(X, y, w, b)))\n",
    "        w = w + alpha * y[i] * X[:,i]\n",
    "        b = b + alpha * y[i]\n",
    "        i = 0  # 重置i\n",
    "    else:\n",
    "        i += 1\n",
    "\n",
    "    if i == n:\n",
    "        print(\"Get final w = {}\".format(w))\n",
    "        print(\"Get final b = {}\".format(b))\n",
    "        break"
   ]
  },
  {
   "cell_type": "code",
   "execution_count": 184,
   "metadata": {},
   "outputs": [
    {
     "data": {
      "image/png": "[encoded data removed]",
      "text/plain": [
       "<Figure size 432x288 with 1 Axes>"
      ]
     },
     "metadata": {
      "needs_background": "light"
     },
     "output_type": "display_data"
    }
   ],
   "source": [
    "plot_decision_boundary(X, y, w, b)"
   ]
  },
  {
   "cell_type": "markdown",
   "metadata": {},
   "source": [
    "上面每次只取一个样本去更新梯度, 这种称为随机梯度下降, 当然, 更普遍的做法是每次使用所有的误分类样本来做梯度下降!"
   ]
  },
  {
   "cell_type": "code",
   "execution_count": 185,
   "metadata": {},
   "outputs": [
    {
     "name": "stdout",
     "output_type": "stream",
     "text": [
      "Iter 0: misclassify num: 1, loss: -0.0\n",
      "Iter 1: misclassify num: 3, loss: 38.1\n",
      "Iter 2: misclassify num: 4, loss: 118.0\n",
      "Iter 3: misclassify num: 3, loss: 12.200000000000003\n",
      "Iter 4: misclassify num: 3, loss: 91.1\n",
      "Iter 5: misclassify num: 4, loss: 75.0\n",
      "Iter 6: misclassify num: 3, loss: 21.099999999999994\n",
      "Iter 7: misclassify num: 4, loss: 118.0\n",
      "Iter 8: misclassify num: 2, loss: 20.200000000000003\n",
      "Iter 9: misclassify num: 3, loss: 31.599999999999994\n",
      "Iter 10: misclassify num: 4, loss: 107.0\n",
      "Iter 11: misclassify num: 2, loss: 15.700000000000005\n",
      "Iter 12: misclassify num: 3, loss: 42.099999999999994\n",
      "Iter 13: misclassify num: 4, loss: 96.0\n",
      "Iter 14: misclassify num: 3, loss: 14.100000000000003\n",
      "Iter 15: misclassify num: 2, loss: 8.8\n",
      "Iter 16: misclassify num: 2, loss: 8.700000000000003\n",
      "Iter 17: misclassify num: 3, loss: 43.599999999999994\n",
      "Iter 18: misclassify num: 4, loss: 98.0\n",
      "Iter 19: misclassify num: 1, loss: 4.400000000000002\n",
      "Iter 20: misclassify num: 3, loss: 15.099999999999994\n",
      "Iter 21: misclassify num: 4, loss: 114.0\n",
      "Iter 22: misclassify num: 2, loss: 14.200000000000005\n",
      "Iter 23: misclassify num: 3, loss: 25.599999999999994\n",
      "Iter 24: misclassify num: 4, loss: 103.0\n",
      "Iter 25: misclassify num: 2, loss: 9.700000000000005\n",
      "Iter 26: misclassify num: 3, loss: 36.099999999999994\n",
      "Iter 27: misclassify num: 4, loss: 92.0\n",
      "Iter 28: misclassify num: 1, loss: 5.900000000000002\n",
      "Iter 29: misclassify num: 2, loss: 11.299999999999997\n",
      "Iter 30: misclassify num: 4, loss: 56.0\n",
      "Iter 31: misclassify num: 2, loss: 17.799999999999997\n",
      "Iter 32: misclassify num: 4, loss: 47.0\n",
      "Iter 33: misclassify num: 3, loss: 25.599999999999994\n",
      "Iter 34: misclassify num: 4, loss: 90.0\n",
      "Iter 35: misclassify num: 1, loss: 8.400000000000002\n",
      "Iter 36: misclassify num: 1, loss: 9.399999999999999\n",
      "Iter 37: misclassify num: 2, loss: 14.200000000000006\n",
      "Iter 38: misclassify num: 2, loss: 13.799999999999997\n",
      "Iter 39: misclassify num: 4, loss: 47.0\n",
      "Iter 40: misclassify num: 3, loss: 21.099999999999994\n",
      "Iter 41: misclassify num: 4, loss: 90.0\n",
      "Iter 42: misclassify num: 1, loss: 6.900000000000002\n",
      "Iter 43: misclassify num: 1, loss: 6.899999999999999\n",
      "Iter 44: misclassify num: 2, loss: 12.200000000000006\n",
      "Iter 45: misclassify num: 2, loss: 9.799999999999997\n",
      "Iter 46: misclassify num: 4, loss: 47.0\n",
      "Iter 47: misclassify num: 3, loss: 16.599999999999994\n",
      "Iter 48: misclassify num: 4, loss: 90.0\n",
      "Iter 49: misclassify num: 1, loss: 5.400000000000002\n",
      "Iter 50: misclassify num: 1, loss: 4.399999999999999\n",
      "Iter 51: misclassify num: 3, loss: 10.700000000000006\n",
      "Iter 52: misclassify num: 3, loss: 45.599999999999994\n",
      "Iter 53: misclassify num: 4, loss: 67.0\n",
      "Iter 54: misclassify num: 1, loss: 1.8999999999999986\n",
      "Iter 55: misclassify num: 3, loss: 15.200000000000003\n",
      "Iter 56: misclassify num: 3, loss: 33.099999999999994\n",
      "Iter 57: misclassify num: 4, loss: 71.0\n",
      "Iter 58: misclassify num: 1, loss: 1.4000000000000021\n",
      "Iter 59: misclassify num: 1, loss: 10.399999999999999\n",
      "Iter 60: misclassify num: 1, loss: 3.400000000000002\n",
      "Iter 61: misclassify num: 1, loss: 0.3999999999999986\n",
      "Iter 62: misclassify num: 3, loss: 10.700000000000006\n",
      "Iter 63: misclassify num: 3, loss: 38.099999999999994\n",
      "Iter 64: misclassify num: 4, loss: 68.0\n",
      "Iter 65: misclassify num: 0, loss: 0\n",
      "Get final w = [1.3 5.9]\n",
      "Get final b = -28.0\n"
     ]
    }
   ],
   "source": [
    "# 迭代求解2: 每次使用所有的误分类样本\n",
    "alpha = 0.5  # 学习率\n",
    "w2 = [0.3, 0.4]\n",
    "b2 = -2\n",
    "dist_vec = y * (np.dot(w2, X) + b2)\n",
    "misclassify_flag = dist_vec <= 0\n",
    "index = 0\n",
    "print(\"Iter {}: misclassify num: {}, loss: {}\".format(index, np.sum(misclassify_flag), loss(X,y,w2,b2)))\n",
    "while np.sum(misclassify_flag) > 0:\n",
    "    index += 1\n",
    "    w2 = w2 + alpha * np.sum(y[misclassify_flag] * X[:, misclassify_flag], axis=1)\n",
    "    b2  =  b2 + alpha * np.sum(y[misclassify_flag])\n",
    "    dist_vec = y * (np.dot(w2, X) + b2)\n",
    "    misclassify_flag = dist_vec <= 0\n",
    "    print(\"Iter {}: misclassify num: {}, loss: {}\".format(index, np.sum(misclassify_flag), loss(X,y,w2,b2)))\n",
    "    \n",
    "print(\"Get final w = {}\".format(w2))\n",
    "print(\"Get final b = {}\".format(b2))"
   ]
  },
  {
   "cell_type": "code",
   "execution_count": 186,
   "metadata": {},
   "outputs": [
    {
     "data": {
      "image/png": "[encoded data removed]",
      "text/plain": [
       "<Figure size 432x288 with 1 Axes>"
      ]
     },
     "metadata": {
      "needs_background": "light"
     },
     "output_type": "display_data"
    }
   ],
   "source": [
    "plot_decision_boundary(X, y, w2, b2)"
   ]
  },
  {
   "cell_type": "markdown",
   "metadata": {},
   "source": [
    "**思考1**: 每次使用所有误分类样本来更新梯度, loss为何忽大忽小? 因为一般而言模型的loss都是使用所有样本计算出来的(不管是正确分类还是错误分类), 而感知机比较特殊, 它只使用误分类样本来计算误差, 利用误分类样本更新完梯度后, 又可能造成了原本正确分类的样本分错了, 因此这个loss不稳定."
   ]
  },
  {
   "cell_type": "markdown",
   "metadata": {},
   "source": [
    "### 感知器学习算法对偶形式"
   ]
  },
  {
   "cell_type": "markdown",
   "metadata": {},
   "source": [
    "上面讲到: 每次随机选择一个误分类点来对$\\boldsymbol{w},b$进行梯度下降:\n",
    "$$\n",
    "\\boldsymbol{w} \\gets \\boldsymbol{w} + \\eta y_i\\boldsymbol{x_i}\n",
    "$$\n",
    "$$\n",
    "b \\gets b + \\eta y_i\n",
    "$$\n",
    "\n",
    "初始的$\\boldsymbol{w}, b$可以都赋值为0, 则最终得到的$\\boldsymbol{w}, b$可以表示为实例X和标签y的线性函数:\n",
    "$$\n",
    "\\boldsymbol{w} = \\sum_{i=1}^N \\eta_i y_i \\boldsymbol{x_i}\n",
    "$$\n",
    "\n",
    "$$\n",
    "b = \\sum_{i=1}^N \\eta_i y_i\n",
    "$$\n",
    "\n",
    "这里$\\eta_i \\ge 0, i=1,...,N$. 则感知机模型为:\n",
    "$$\n",
    "f(x) = sign(\\sum_{j=1}^N \\eta_j y_j x^T_j x + \\eta_j y_j)\n",
    "$$\n",
    "\n",
    "代价函数为:\n",
    "\n",
    "$$\n",
    "L(w,b) = L(\\eta)= - \\sum_{x_i \\subset M} y_i (\\sum_{j=1}^N \\eta_j y_j x^T_j x_i + \\eta_j y_j) \\\n",
    "= -\\sum_{x_i \\subset M} y_i (\\sum_{j=1}^N y_j \\eta_j (x^T_j x_i + 1))\n",
    "$$\n",
    "\n",
    "对$\\eta_t$求偏导:\n",
    "$$\n",
    "$$"
   ]
  },
  {
   "cell_type": "markdown",
   "metadata": {},
   "source": [
    "$$\n",
    "\\bigtriangledown_{\\eta_t}L(\\eta) = - \\sum_{x_i \\subset M} y_i y_t (x^T_t x_i + 1)\n",
    "$$"
   ]
  },
  {
   "cell_type": "markdown",
   "metadata": {},
   "source": [
    "则梯度更新公式为 (当样本t被错分的时候才更新$\\eta_t$): \n",
    "$$\n",
    "\\eta_t = \\eta_t + \\alpha \\sum_{x_i \\subset M} y_i y_t (x^T_t x_i + 1)\n",
    "$$\n",
    "\n",
    "如果每次只用一个错分点进行更新:\n",
    "$$\n",
    "\\eta_t = \\eta_t + \\alpha  y_t y_t (x^T_t x_t + 1) = \\eta_t + \\alpha (G(t,t) + 1)\n",
    "$$"
   ]
  },
  {
   "cell_type": "code",
   "execution_count": 187,
   "metadata": {},
   "outputs": [],
   "source": [
    "def loss_v2(X, y, eta):\n",
    "    \"\"\"\n",
    "    计算loss\n",
    "    \"\"\"\n",
    "    dist_vec = np.dot(eta * y, 1 + G) * y \n",
    "    misclassify_flag = dist_vec <= 0\n",
    "    if sum(misclassify_flag) == 0:\n",
    "        return 0\n",
    "    return -sum(dist_vec[misclassify_flag])"
   ]
  },
  {
   "cell_type": "code",
   "execution_count": 235,
   "metadata": {},
   "outputs": [
    {
     "name": "stdout",
     "output_type": "stream",
     "text": [
      "Iter 0: misclassify num: 7, dist_vec:[-0. -0. -0. -0.  0.  0.  0.], loss: -0.0\n",
      "Iter 1: misclassify num: 4, dist_vec: [-521.4 -489.2 -350.8 -531.   988.   955.8  817.4], loss: 1892.4\n",
      "Iter 2: misclassify num: 4, dist_vec: [-224.8 -192.6 -109.2 -179.4  416.4  384.2  300.8], loss: 706.0000000000002\n",
      "Iter 3: misclassify num: 3, dist_vec: [  71.8  104.   132.4  172.2 -155.2 -187.4 -215.8], loss: 558.4000000000001\n",
      "Iter 4: misclassify num: 4, dist_vec: [-1165.7 -1052.8  -688.9 -1078.   2194.9  2082.   1718.1], loss: 3985.4000000000005\n",
      "Iter 5: misclassify num: 4, dist_vec: [-869.1 -756.2 -447.3 -726.4 1623.3 1510.4 1201.5], loss: 2799.0000000000005\n",
      "Iter 6: misclassify num: 4, dist_vec: [-572.5 -459.6 -205.7 -374.8 1051.7  938.8  684.9], loss: 1612.6000000000004\n",
      "Iter 7: misclassify num: 3, dist_vec: [-275.9 -163.    35.9  -23.2  480.1  367.2  168.3], loss: 462.1000000000009\n",
      "Iter 8: misclassify num: 3, dist_vec: [ -63.4   41.1  190.2  205.5   77.4  -27.1 -176.2], loss: 266.69999999999914\n",
      "Iter 9: misclassify num: 4, dist_vec: [-465.9 -344.2  -97.3 -226.   848.5  726.8  479.9], loss: 1133.4000000000005\n",
      "Iter 10: misclassify num: 3, dist_vec: [-169.3  -47.6  144.3  125.6  276.9  155.2  -36.7], loss: 253.6000000000007\n",
      "Iter 11: misclassify num: 3, dist_vec: [-133.9  -15.8  165.1  157.6  211.7   93.6  -87.3], loss: 237.00000000000068\n",
      "Iter 12: misclassify num: 2, dist_vec: [ -98.5   16.   185.9  189.6  146.5   32.  -137.9], loss: 236.40000000000055\n",
      "Iter 13: misclassify num: 3, dist_vec: [-149.7  -36.   142.7  126.4  247.3  133.6  -45.1], loss: 230.8000000000004\n",
      "Iter 14: misclassify num: 3, dist_vec: [-114.3   -4.2  163.5  158.4  182.1   72.   -95.7], loss: 214.20000000000016\n",
      "Iter 15: misclassify num: 2, dist_vec: [ -78.9   27.6  184.3  190.4  116.9   10.4 -146.3], loss: 225.20000000000005\n",
      "Iter 16: misclassify num: 3, dist_vec: [-130.1  -24.4  141.1  127.2  217.7  112.   -53.5], loss: 207.9999999999999\n",
      "Iter 17: misclassify num: 2, dist_vec: [ -94.7    7.4  161.9  159.2  152.5   50.4 -104.1], loss: 198.79999999999973\n",
      "Iter 18: misclassify num: 3, dist_vec: [-145.9  -44.6  118.7   96.   253.3  152.   -11.3], loss: 201.8000000000003\n",
      "Iter 19: misclassify num: 3, dist_vec: [-110.5  -12.8  139.5  128.   188.1   90.4  -61.9], loss: 185.20000000000027\n",
      "Iter 20: misclassify num: 2, dist_vec: [ -75.1   19.   160.3  160.   122.9   28.8 -112.5], loss: 187.60000000000036\n",
      "Iter 21: misclassify num: 3, dist_vec: [-126.3  -33.   117.1   96.8  223.7  130.4  -19.7], loss: 178.99999999999977\n",
      "Iter 22: misclassify num: 3, dist_vec: [-90.9  -1.2 137.9 128.8 158.5  68.8 -70.3], loss: 162.39999999999986\n",
      "Iter 23: misclassify num: 2, dist_vec: [ -55.5   30.6  158.7  160.8   93.3    7.2 -120.9], loss: 176.4000000000001\n",
      "Iter 24: misclassify num: 3, dist_vec: [-106.7  -21.4  115.5   97.6  194.1  108.8  -28.1], loss: 156.19999999999948\n",
      "Iter 25: misclassify num: 2, dist_vec: [-71.3  10.4 136.3 129.6 128.9  47.2 -78.7], loss: 150.00000000000023\n",
      "Iter 26: misclassify num: 2, dist_vec: [-122.5  -41.6   93.1   66.4  229.7  148.8   14.1], loss: 164.09999999999934\n",
      "Iter 27: misclassify num: 3, dist_vec: [ -19.6   48.5  148.5  152.8   42.9  -25.2 -125.2], loss: 170.00000000000068\n",
      "Iter 28: misclassify num: 4, dist_vec: [-422.1 -336.8 -139.  -278.7  814.   728.7  530.9], loss: 1176.599999999998\n",
      "Iter 29: misclassify num: 2, dist_vec: [-125.5  -40.2  102.6   72.9  242.4  157.1   14.3], loss: 165.69999999999902\n",
      "Iter 30: misclassify num: 3, dist_vec: [ -22.6   49.9  158.   159.3   55.6  -16.9 -125. ], loss: 164.50000000000068\n",
      "Iter 31: misclassify num: 4, dist_vec: [-425.1 -335.4 -129.5 -272.2  826.7  737.   531.1], loss: 1162.1999999999985\n",
      "Iter 32: misclassify num: 2, dist_vec: [-128.5  -38.8  112.1   79.4  255.1  165.4   14.5], loss: 167.29999999999882\n",
      "Iter 33: misclassify num: 3, dist_vec: [ -25.6   51.3  167.5  165.8   68.3   -8.6 -124.8], loss: 159.0000000000016\n",
      "Iter 34: misclassify num: 4, dist_vec: [-428.1 -334.  -120.  -265.7  839.4  745.3  531.3], loss: 1147.7999999999988\n",
      "Iter 35: misclassify num: 2, dist_vec: [-131.5  -37.4  121.6   85.9  267.8  173.7   14.7], loss: 168.89999999999895\n",
      "Iter 36: misclassify num: 3, dist_vec: [ -28.6   52.7  177.   172.3   81.    -0.3 -124.6], loss: 153.49999999999955\n",
      "Iter 37: misclassify num: 4, dist_vec: [-431.1 -332.6 -110.5 -259.2  852.1  753.6  531.5], loss: 1133.3999999999976\n",
      "Iter 38: misclassify num: 2, dist_vec: [-134.5  -36.   131.1   92.4  280.5  182.    14.9], loss: 170.4999999999984\n",
      "Iter 39: misclassify num: 2, dist_vec: [ -31.6   54.1  186.5  178.8   93.7    8.  -124.4], loss: 155.99999999999977\n",
      "Iter 40: misclassify num: 2, dist_vec: [-82.8   2.1 143.3 115.6 194.5 109.6 -31.6], loss: 114.39999999999986\n",
      "Iter 41: misclassify num: 2, dist_vec: [-134.   -49.9  100.1   52.4  295.3  211.2   61.2], loss: 183.89999999999804\n",
      "Iter 42: misclassify num: 2, dist_vec: [-31.1  40.2 155.5 138.8 108.5  37.2 -78.1], loss: 109.19999999999959\n",
      "Iter 43: misclassify num: 2, dist_vec: [-82.3 -11.8 112.3  75.6 209.3 138.8  14.7], loss: 94.09999999999786\n",
      "Iter 44: misclassify num: 2, dist_vec: [  20.6   78.3  167.7  162.    22.5  -35.2 -124.6], loss: 159.800000000002\n",
      "Iter 45: misclassify num: 4, dist_vec: [-455.  -386.4 -192.5 -374.5  944.3  875.7  681.8], loss: 1408.3999999999974\n",
      "Iter 46: misclassify num: 3, dist_vec: [-158.4  -89.8   49.1  -22.9  372.7  304.1  165.2], loss: 271.09999999999764\n",
      "Iter 47: misclassify num: 3, dist_vec: [  54.1  114.3  203.4  205.8  -30.   -90.2 -179.3], loss: 299.50000000000546\n",
      "Iter 48: misclassify num: 4, dist_vec: [-1183.4 -1042.5  -617.9 -1044.4  2320.1  2179.2  1754.6], loss: 3888.1999999999953\n",
      "Iter 49: misclassify num: 4, dist_vec: [-886.8 -745.9 -376.3 -692.8 1748.5 1607.6 1238. ], loss: 2701.7999999999943\n",
      "Iter 50: misclassify num: 4, dist_vec: [-590.2 -449.3 -134.7 -341.2 1176.9 1036.   721.4], loss: 1515.3999999999937\n",
      "Iter 51: misclassify num: 2, dist_vec: [-293.6 -152.7  106.9   10.4  605.3  464.4  204.8], loss: 446.29999999999495\n",
      "Iter 52: misclassify num: 2, dist_vec: [-190.7  -62.6  162.3   96.8  418.5  290.4   65.5], loss: 253.29999999999586\n",
      "Iter 53: misclassify num: 2, dist_vec: [-87.8  27.5 217.7 183.2 231.7 116.4 -73.8], loss: 161.60000000000127\n",
      "Iter 54: misclassify num: 2, dist_vec: [-139.   -24.5  174.5  120.   332.5  218.    19. ], loss: 163.4999999999966\n",
      "Iter 55: misclassify num: 2, dist_vec: [ -36.1   65.6  229.9  206.4  145.7   44.  -120.3], loss: 156.40000000000146\n",
      "Iter 56: misclassify num: 2, dist_vec: [-87.3  13.6 186.7 143.2 246.5 145.6 -27.5], loss: 114.80000000000018\n",
      "Iter 57: misclassify num: 2, dist_vec: [-138.5  -38.4  143.5   80.   347.3  247.2   65.3], loss: 176.8999999999951\n",
      "Iter 58: misclassify num: 2, dist_vec: [-35.6  51.7 198.9 166.4 160.5  73.2 -74. ], loss: 109.60000000000036\n",
      "Iter 59: misclassify num: 2, dist_vec: [-86.8  -0.3 155.7 103.2 261.3 174.8  18.8], loss: 87.0999999999949\n",
      "Iter 60: misclassify num: 1, dist_vec: [  16.1   89.8  211.1  189.6   74.5    0.8 -120.5], loss: 120.50000000000273\n",
      "Iter 61: misclassify num: 2, dist_vec: [-76.3  -6.8 127.1  67.8 259.3 189.8  55.9], loss: 83.09999999999536\n",
      "Iter 62: misclassify num: 1, dist_vec: [ 26.6  83.3 182.5 154.2  72.5  15.8 -83.4], loss: 83.40000000000418\n",
      "Iter 63: misclassify num: 2, dist_vec: [-65.8 -13.3  98.5  32.4 257.3 204.8  93. ], loss: 79.09999999999627\n",
      "Iter 64: misclassify num: 1, dist_vec: [ 37.1  76.8 153.9 118.8  70.5  30.8 -46.3], loss: 46.30000000000291\n",
      "Iter 65: misclassify num: 3, dist_vec: [-55.3 -19.8  69.9  -3.  255.3 219.8 130.1], loss: 78.09999999999445\n",
      "Iter 66: misclassify num: 3, dist_vec: [ 157.2  184.3  224.2  225.7 -147.4 -174.5 -214.4], loss: 536.3000000000102\n",
      "Iter 67: misclassify num: 4, dist_vec: [-1080.3  -972.5  -597.1 -1024.5  2202.7  2094.9  1719.5], loss: 3674.399999999991\n",
      "Iter 68: misclassify num: 4, dist_vec: [-783.7 -675.9 -355.5 -672.9 1631.1 1523.3 1202.9], loss: 2487.999999999992\n",
      "Iter 69: misclassify num: 4, dist_vec: [-487.1 -379.3 -113.9 -321.3 1059.5  951.7  686.3], loss: 1301.5999999999904\n",
      "Iter 70: misclassify num: 2, dist_vec: [-190.5  -82.7  127.7   30.3  487.9  380.1  169.7], loss: 273.199999999993\n",
      "Iter 71: misclassify num: 1, dist_vec: [-87.6   7.4 183.1 116.7 301.1 206.1  30.4], loss: 87.59999999999673\n",
      "Iter 72: misclassify num: 2, dist_vec: [-55.2  34.4 197.5 140.1 243.5 153.9  -9.2], loss: 64.39999999999964\n",
      "Iter 73: misclassify num: 2, dist_vec: [-106.4  -17.6  154.3   76.9  344.3  255.5   83.6], loss: 123.99999999999318\n",
      "Iter 74: misclassify num: 2, dist_vec: [ -3.5  72.5 209.7 163.3 157.5  81.5 -55.7], loss: 59.19999999999891\n",
      "Iter 75: misclassify num: 1, dist_vec: [-54.7  20.5 166.5 100.1 258.3 183.1  37.1], loss: 54.69999999999709\n",
      "Iter 76: misclassify num: 2, dist_vec: [-22.3  47.5 180.9 123.5 200.7 130.9  -2.5], loss: 24.80000000000109\n",
      "Iter 77: misclassify num: 2, dist_vec: [-73.5  -4.5 137.7  60.3 301.5 232.5  90.3], loss: 77.99999999999318\n",
      "Iter 78: misclassify num: 1, dist_vec: [ 29.4  85.6 193.1 146.7 114.7  58.5 -49. ], loss: 49.00000000000546\n",
      "Iter 79: misclassify num: 2, dist_vec: [-63.  -11.  109.1  24.9 299.5 247.5 127.4], loss: 73.99999999999272\n",
      "Iter 80: misclassify num: 1, dist_vec: [ 39.9  79.1 164.5 111.3 112.7  73.5 -11.9], loss: 11.900000000005093\n",
      "Iter 81: misclassify num: 3, dist_vec: [-52.5 -17.5  80.5 -10.5 297.5 262.5 164.5], loss: 80.49999999998545\n",
      "Iter 82: misclassify num: 3, dist_vec: [ 160.   186.6  234.8  218.2 -105.2 -131.8 -180. ], loss: 417.0000000000209\n",
      "Iter 83: misclassify num: 4, dist_vec: [-1077.5  -970.2  -586.5 -1032.   2244.9  2137.6  1753.9], loss: 3666.199999999984\n",
      "Iter 84: misclassify num: 4, dist_vec: [-780.9 -673.6 -344.9 -680.4 1673.3 1566.  1237.3], loss: 2479.7999999999834\n",
      "Iter 85: misclassify num: 4, dist_vec: [-484.3 -377.  -103.3 -328.8 1101.7  994.4  720.7], loss: 1293.399999999981\n",
      "Iter 86: misclassify num: 2, dist_vec: [-187.7  -80.4  138.3   22.8  530.1  422.8  204.1], loss: 268.09999999998763\n",
      "Iter 87: misclassify num: 1, dist_vec: [-84.8   9.7 193.7 109.2 343.3 248.8  64.8], loss: 84.79999999999518\n",
      "Iter 88: misclassify num: 1, dist_vec: [-52.4  36.7 208.1 132.6 285.7 196.6  25.2], loss: 52.39999999999554\n",
      "Iter 89: misclassify num: 2, dist_vec: [-20.   63.7 222.5 156.  228.1 144.4 -14.4], loss: 34.40000000000373\n",
      "Iter 90: misclassify num: 1, dist_vec: [-71.2  11.7 179.3  92.8 328.9 246.   78.4], loss: 71.19999999999482\n",
      "Iter 91: misclassify num: 1, dist_vec: [-38.8  38.7 193.7 116.2 271.3 193.8  38.8], loss: 38.79999999999518\n",
      "Iter 92: misclassify num: 2, dist_vec: [ -6.4  65.7 208.1 139.6 213.7 141.6  -0.8], loss: 7.20000000000482\n",
      "Iter 93: misclassify num: 1, dist_vec: [-57.6  13.7 164.9  76.4 314.5 243.2  92. ], loss: 57.59999999999445\n",
      "Iter 94: misclassify num: 1, dist_vec: [-25.2  40.7 179.3  99.8 256.9 191.   52.4], loss: 25.199999999994816\n",
      "Iter 95: misclassify num: 0, dist_vec: [  7.2  67.7 193.7 123.2 199.3 138.8  12.8], loss: 0\n",
      "Get final eta = [187.9 184.3  86.8 145.5  68.6 110.4 151.3]\n",
      "Get final w = [ 5.  65.5]\n",
      "Get final b = -274.2000000000004\n"
     ]
    }
   ],
   "source": [
    "# 训练集\n",
    "X = np.asarray([[1,4],[2,3],[3,1],[4,2],[3,7],[4,6],[5,4]]).T  #训练样本\n",
    "y = np.asarray([-1,-1,-1,-1,1,1,1])  # 训练样本的标签\n",
    "alpha = 0.1  # 学习率\n",
    "eta = np.array([0.0] * n)  # 待求参数\n",
    "G = np.dot(X.T, X)  # Gram矩阵\n",
    "dist_vec = np.dot(eta * y, 1 + G) * y \n",
    "misclassify_flag = dist_vec <= 0\n",
    "index = 0\n",
    "print(\"Iter {}: misclassify num: {}, dist_vec:{}, loss: {}\".format(index, np.sum(misclassify_flag), dist_vec, loss_v2(X,y,eta)))\n",
    "while sum(misclassify_flag) > 0:\n",
    "    index += 1\n",
    "    for i in range(n):\n",
    "        if misclassify_flag[i]:\n",
    "            eta[i] += alpha * np.dot(y[misclassify_flag]* y[i], G[i, misclassify_flag] + 1)\n",
    "    dist_vec = np.dot(eta * y, 1 + G) * y \n",
    "    misclassify_flag = dist_vec <= 0\n",
    "    print(\"Iter {}: misclassify num: {}, dist_vec: {}, loss: {}\".format(index, np.sum(misclassify_flag), dist_vec, loss_v2(X,y,eta)))\n",
    "    \n",
    "w3 = np.dot(X, eta * y)\n",
    "b3 = np.sum(eta * y) \n",
    "print(\"Get final eta = {}\".format(eta))\n",
    "print(\"Get final w = {}\".format(w3))\n",
    "print(\"Get final b = {}\".format(b3))"
   ]
  },
  {
   "cell_type": "code",
   "execution_count": 236,
   "metadata": {},
   "outputs": [
    {
     "data": {
      "image/png": "[encoded data removed]",
      "text/plain": [
       "<Figure size 432x288 with 1 Axes>"
      ]
     },
     "metadata": {
      "needs_background": "light"
     },
     "output_type": "display_data"
    }
   ],
   "source": [
    "plot_decision_boundary(X, y, w3, b3)"
   ]
  }
 ],
 "metadata": {
  "kernelspec": {
   "display_name": "Python 3",
   "language": "python",
   "name": "python3"
  },
  "language_info": {
   "codemirror_mode": {
    "name": "ipython",
    "version": 3
   },
   "file_extension": ".py",
   "mimetype": "text/x-python",
   "name": "python",
   "nbconvert_exporter": "python",
   "pygments_lexer": "ipython3",
   "version": "3.7.6"
  }
 },
 "nbformat": 4,
 "nbformat_minor": 4
}
